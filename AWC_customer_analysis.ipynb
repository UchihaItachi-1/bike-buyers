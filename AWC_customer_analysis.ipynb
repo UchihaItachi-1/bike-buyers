{
 "cells": [
  {
   "cell_type": "code",
   "execution_count": 1,
   "metadata": {},
   "outputs": [],
   "source": [
    "import pandas as pd\n",
    "import numpy as np\n",
    "import numpy.random as nr\n",
    "from sklearn.cluster import KMeans, AgglomerativeClustering\n",
    "from sklearn.metrics import silhouette_score\n",
    "from sklearn.preprocessing import StandardScaler\n",
    "import matplotlib.pyplot as plt"
   ]
  },
  {
   "cell_type": "code",
   "execution_count": 2,
   "metadata": {},
   "outputs": [],
   "source": [
    "df=pd.read_csv(\"AW_AveMonthSpend.csv\")\n",
    "df1=pd.read_csv(\"AdvWorksCusts.csv\")\n",
    "df2=pd.read_csv(\"AW_BikeBuyer.csv\")\n",
    "\n"
   ]
  },
  {
   "cell_type": "code",
   "execution_count": 3,
   "metadata": {},
   "outputs": [
    {
     "data": {
      "text/html": [
       "<div>\n",
       "<style scoped>\n",
       "    .dataframe tbody tr th:only-of-type {\n",
       "        vertical-align: middle;\n",
       "    }\n",
       "\n",
       "    .dataframe tbody tr th {\n",
       "        vertical-align: top;\n",
       "    }\n",
       "\n",
       "    .dataframe thead th {\n",
       "        text-align: right;\n",
       "    }\n",
       "</style>\n",
       "<table border=\"1\" class=\"dataframe\">\n",
       "  <thead>\n",
       "    <tr style=\"text-align: right;\">\n",
       "      <th></th>\n",
       "      <th>CustomerID</th>\n",
       "      <th>AveMonthSpend</th>\n",
       "    </tr>\n",
       "  </thead>\n",
       "  <tbody>\n",
       "    <tr>\n",
       "      <th>0</th>\n",
       "      <td>11000</td>\n",
       "      <td>89</td>\n",
       "    </tr>\n",
       "    <tr>\n",
       "      <th>1</th>\n",
       "      <td>11001</td>\n",
       "      <td>117</td>\n",
       "    </tr>\n",
       "    <tr>\n",
       "      <th>2</th>\n",
       "      <td>11002</td>\n",
       "      <td>123</td>\n",
       "    </tr>\n",
       "    <tr>\n",
       "      <th>3</th>\n",
       "      <td>11003</td>\n",
       "      <td>50</td>\n",
       "    </tr>\n",
       "    <tr>\n",
       "      <th>4</th>\n",
       "      <td>11004</td>\n",
       "      <td>95</td>\n",
       "    </tr>\n",
       "  </tbody>\n",
       "</table>\n",
       "</div>"
      ],
      "text/plain": [
       "   CustomerID  AveMonthSpend\n",
       "0       11000             89\n",
       "1       11001            117\n",
       "2       11002            123\n",
       "3       11003             50\n",
       "4       11004             95"
      ]
     },
     "execution_count": 3,
     "metadata": {},
     "output_type": "execute_result"
    }
   ],
   "source": [
    "df.head()"
   ]
  },
  {
   "cell_type": "code",
   "execution_count": 4,
   "metadata": {},
   "outputs": [
    {
     "data": {
      "text/plain": [
       "22"
      ]
     },
     "execution_count": 4,
     "metadata": {},
     "output_type": "execute_result"
    }
   ],
   "source": [
    "df[\"AveMonthSpend\"].min()"
   ]
  },
  {
   "cell_type": "markdown",
   "metadata": {},
   "source": [
    "def find_unique(df):\n",
    "    ids=[]\n",
    "    for x in reverse(df['CustomerID']):\n",
    "        if x in ids:\n",
    "            df.drop(axis=0,inplace=True)\n",
    "        else: \n",
    "            ids.append(x)`\n",
    "            \n",
    "        \n",
    "    \n",
    "\n",
    "    "
   ]
  },
  {
   "cell_type": "code",
   "execution_count": 5,
   "metadata": {},
   "outputs": [
    {
     "data": {
      "text/plain": [
       "16404"
      ]
     },
     "execution_count": 5,
     "metadata": {},
     "output_type": "execute_result"
    }
   ],
   "source": [
    "len(df['CustomerID'].unique())"
   ]
  },
  {
   "cell_type": "code",
   "execution_count": 6,
   "metadata": {
    "scrolled": true
   },
   "outputs": [
    {
     "data": {
      "text/plain": [
       "16404"
      ]
     },
     "execution_count": 6,
     "metadata": {},
     "output_type": "execute_result"
    }
   ],
   "source": [
    "def keep_unique(df):\n",
    "    lis=[]\n",
    "    for x in df[\"CustomerID\"]:\n",
    "        if x in lis:\n",
    "            df.drop(axis=0, inplace=True, labels=df[df[\"CustomerID\"]==x].index[0])\n",
    "        else:\n",
    "            lis.append(x)\n",
    "\n",
    "keep_unique(df)\n",
    "len(df['CustomerID'])   "
   ]
  },
  {
   "cell_type": "code",
   "execution_count": 7,
   "metadata": {},
   "outputs": [
    {
     "data": {
      "text/html": [
       "<div>\n",
       "<style scoped>\n",
       "    .dataframe tbody tr th:only-of-type {\n",
       "        vertical-align: middle;\n",
       "    }\n",
       "\n",
       "    .dataframe tbody tr th {\n",
       "        vertical-align: top;\n",
       "    }\n",
       "\n",
       "    .dataframe thead th {\n",
       "        text-align: right;\n",
       "    }\n",
       "</style>\n",
       "<table border=\"1\" class=\"dataframe\">\n",
       "  <thead>\n",
       "    <tr style=\"text-align: right;\">\n",
       "      <th></th>\n",
       "      <th>CustomerID</th>\n",
       "      <th>AveMonthSpend</th>\n",
       "    </tr>\n",
       "  </thead>\n",
       "  <tbody>\n",
       "    <tr>\n",
       "      <th>count</th>\n",
       "      <td>16404.000000</td>\n",
       "      <td>16404.000000</td>\n",
       "    </tr>\n",
       "    <tr>\n",
       "      <th>mean</th>\n",
       "      <td>20240.143136</td>\n",
       "      <td>72.391002</td>\n",
       "    </tr>\n",
       "    <tr>\n",
       "      <th>std</th>\n",
       "      <td>5340.370705</td>\n",
       "      <td>27.269921</td>\n",
       "    </tr>\n",
       "    <tr>\n",
       "      <th>min</th>\n",
       "      <td>11000.000000</td>\n",
       "      <td>22.000000</td>\n",
       "    </tr>\n",
       "    <tr>\n",
       "      <th>25%</th>\n",
       "      <td>15617.750000</td>\n",
       "      <td>52.000000</td>\n",
       "    </tr>\n",
       "    <tr>\n",
       "      <th>50%</th>\n",
       "      <td>20231.500000</td>\n",
       "      <td>68.000000</td>\n",
       "    </tr>\n",
       "    <tr>\n",
       "      <th>75%</th>\n",
       "      <td>24862.250000</td>\n",
       "      <td>84.000000</td>\n",
       "    </tr>\n",
       "    <tr>\n",
       "      <th>max</th>\n",
       "      <td>29482.000000</td>\n",
       "      <td>176.000000</td>\n",
       "    </tr>\n",
       "  </tbody>\n",
       "</table>\n",
       "</div>"
      ],
      "text/plain": [
       "         CustomerID  AveMonthSpend\n",
       "count  16404.000000   16404.000000\n",
       "mean   20240.143136      72.391002\n",
       "std     5340.370705      27.269921\n",
       "min    11000.000000      22.000000\n",
       "25%    15617.750000      52.000000\n",
       "50%    20231.500000      68.000000\n",
       "75%    24862.250000      84.000000\n",
       "max    29482.000000     176.000000"
      ]
     },
     "execution_count": 7,
     "metadata": {},
     "output_type": "execute_result"
    }
   ],
   "source": [
    "df.describe()"
   ]
  },
  {
   "cell_type": "code",
   "execution_count": 8,
   "metadata": {},
   "outputs": [],
   "source": [
    "keep_unique(df1)"
   ]
  },
  {
   "cell_type": "code",
   "execution_count": 9,
   "metadata": {},
   "outputs": [
    {
     "data": {
      "text/plain": [
       "5455"
      ]
     },
     "execution_count": 9,
     "metadata": {},
     "output_type": "execute_result"
    }
   ],
   "source": [
    "keep_unique(df2)\n",
    "df2[\"BikeBuyer\"].sum()"
   ]
  },
  {
   "cell_type": "code",
   "execution_count": 10,
   "metadata": {},
   "outputs": [
    {
     "name": "stdout",
     "output_type": "stream",
     "text": [
      "['Professional', YearlyIncome    99058.0\n",
      "dtype: float64, 'Management', YearlyIncome    118781.0\n",
      "dtype: float64, 'Skilled Manual', YearlyIncome    66471.5\n",
      "dtype: float64, 'Clerical', YearlyIncome    49481.0\n",
      "dtype: float64, 'Manual', YearlyIncome    21722.0\n",
      "dtype: float64]\n"
     ]
    }
   ],
   "source": [
    "def cat_median():\n",
    "    a=df1.loc[:,[\"YearlyIncome\", \"Occupation\"]]\n",
    "    b=a[\"Occupation\"].unique()\n",
    "    lis=[]\n",
    "    for x in b:\n",
    "        temp_df=a[a[\"Occupation\"]==x]\n",
    "        lis.append(x)\n",
    "        lis.append(temp_df.median())\n",
    "    return lis\n",
    "print(cat_median())\n"
   ]
  },
  {
   "cell_type": "code",
   "execution_count": 11,
   "metadata": {},
   "outputs": [],
   "source": [
    "df=pd.merge(df,df1, how='outer', left_on='CustomerID', right_on='CustomerID')"
   ]
  },
  {
   "cell_type": "code",
   "execution_count": 12,
   "metadata": {},
   "outputs": [
    {
     "data": {
      "text/plain": [
       "0       31 days 16:03:56.065573\n",
       "1       32 days 13:38:21.639344\n",
       "2       32 days 07:44:15.737704\n",
       "3       29 days 19:36:23.606557\n",
       "4       29 days 08:07:52.131147\n",
       "                  ...          \n",
       "16399   32 days 17:06:53.114754\n",
       "16400   61 days 14:57:02.950819\n",
       "16401   57 days 21:10:49.180327\n",
       "16402   51 days 02:17:42.295081\n",
       "16403   52 days 15:04:55.081967\n",
       "Name: Age, Length: 16404, dtype: timedelta64[ns]"
      ]
     },
     "execution_count": 12,
     "metadata": {},
     "output_type": "execute_result"
    }
   ],
   "source": [
    "df[\"BirthDate\"]=pd.to_datetime(df[\"BirthDate\"])\n",
    "df[\"Age\"]=(pd.Timestamp('1/1/1998')-df[\"BirthDate\"])/366\n",
    "df.dtypes\n",
    "df['Age']"
   ]
  },
  {
   "cell_type": "code",
   "execution_count": 13,
   "metadata": {},
   "outputs": [
    {
     "data": {
      "text/html": [
       "<div>\n",
       "<style scoped>\n",
       "    .dataframe tbody tr th:only-of-type {\n",
       "        vertical-align: middle;\n",
       "    }\n",
       "\n",
       "    .dataframe tbody tr th {\n",
       "        vertical-align: top;\n",
       "    }\n",
       "\n",
       "    .dataframe thead th {\n",
       "        text-align: right;\n",
       "    }\n",
       "</style>\n",
       "<table border=\"1\" class=\"dataframe\">\n",
       "  <thead>\n",
       "    <tr style=\"text-align: right;\">\n",
       "      <th></th>\n",
       "      <th>AveMonthSpend</th>\n",
       "      <th>Gender</th>\n",
       "      <th>Age</th>\n",
       "    </tr>\n",
       "  </thead>\n",
       "  <tbody>\n",
       "    <tr>\n",
       "      <th>4146</th>\n",
       "      <td>176</td>\n",
       "      <td>M</td>\n",
       "      <td>44 days 05:10:49.180327</td>\n",
       "    </tr>\n",
       "    <tr>\n",
       "      <th>4172</th>\n",
       "      <td>176</td>\n",
       "      <td>M</td>\n",
       "      <td>24 days 08:43:16.721311</td>\n",
       "    </tr>\n",
       "    <tr>\n",
       "      <th>5539</th>\n",
       "      <td>175</td>\n",
       "      <td>M</td>\n",
       "      <td>26 days 08:07:52.131147</td>\n",
       "    </tr>\n",
       "    <tr>\n",
       "      <th>674</th>\n",
       "      <td>175</td>\n",
       "      <td>M</td>\n",
       "      <td>30 days 19:48:11.803278</td>\n",
       "    </tr>\n",
       "    <tr>\n",
       "      <th>6352</th>\n",
       "      <td>174</td>\n",
       "      <td>M</td>\n",
       "      <td>44 days 08:23:36.393442</td>\n",
       "    </tr>\n",
       "    <tr>\n",
       "      <th>...</th>\n",
       "      <td>...</td>\n",
       "      <td>...</td>\n",
       "      <td>...</td>\n",
       "    </tr>\n",
       "    <tr>\n",
       "      <th>4699</th>\n",
       "      <td>26</td>\n",
       "      <td>F</td>\n",
       "      <td>84 days 03:16:43.278688</td>\n",
       "    </tr>\n",
       "    <tr>\n",
       "      <th>4831</th>\n",
       "      <td>25</td>\n",
       "      <td>F</td>\n",
       "      <td>84 days 04:51:08.852459</td>\n",
       "    </tr>\n",
       "    <tr>\n",
       "      <th>749</th>\n",
       "      <td>25</td>\n",
       "      <td>F</td>\n",
       "      <td>73 days 05:18:41.311475</td>\n",
       "    </tr>\n",
       "    <tr>\n",
       "      <th>3609</th>\n",
       "      <td>24</td>\n",
       "      <td>F</td>\n",
       "      <td>77 days 03:16:43.278688</td>\n",
       "    </tr>\n",
       "    <tr>\n",
       "      <th>4816</th>\n",
       "      <td>22</td>\n",
       "      <td>F</td>\n",
       "      <td>86 days 05:02:57.049180</td>\n",
       "    </tr>\n",
       "  </tbody>\n",
       "</table>\n",
       "<p>16404 rows × 3 columns</p>\n",
       "</div>"
      ],
      "text/plain": [
       "      AveMonthSpend Gender                     Age\n",
       "4146            176      M 44 days 05:10:49.180327\n",
       "4172            176      M 24 days 08:43:16.721311\n",
       "5539            175      M 26 days 08:07:52.131147\n",
       "674             175      M 30 days 19:48:11.803278\n",
       "6352            174      M 44 days 08:23:36.393442\n",
       "...             ...    ...                     ...\n",
       "4699             26      F 84 days 03:16:43.278688\n",
       "4831             25      F 84 days 04:51:08.852459\n",
       "749              25      F 73 days 05:18:41.311475\n",
       "3609             24      F 77 days 03:16:43.278688\n",
       "4816             22      F 86 days 05:02:57.049180\n",
       "\n",
       "[16404 rows x 3 columns]"
      ]
     },
     "execution_count": 13,
     "metadata": {},
     "output_type": "execute_result"
    }
   ],
   "source": [
    "def ques8():\n",
    "    a=df.loc[:,[\"AveMonthSpend\",\"Gender\", \"Age\"]]\n",
    "    a.sort_values(by=\"AveMonthSpend\",ascending=False, inplace=True)\n",
    "    return a\n",
    "ques8()"
   ]
  },
  {
   "cell_type": "code",
   "execution_count": 14,
   "metadata": {},
   "outputs": [
    {
     "name": "stdout",
     "output_type": "stream",
     "text": [
      "74.0 62.0\n"
     ]
    }
   ],
   "source": [
    "temp=df[df[\"MaritalStatus\"]==\"M\"][\"AveMonthSpend\"].median()\n",
    "temp2=df[df[\"MaritalStatus\"]==\"S\"][\"AveMonthSpend\"].median()\n",
    "print(temp,temp2)"
   ]
  },
  {
   "cell_type": "code",
   "execution_count": 15,
   "metadata": {},
   "outputs": [
    {
     "name": "stdout",
     "output_type": "stream",
     "text": [
      "65.0 96.0\n"
     ]
    }
   ],
   "source": [
    "temp=df[df[\"NumberCarsOwned\"]==0][\"AveMonthSpend\"].median()\n",
    "temp2=df[df[\"NumberCarsOwned\"]>=3][\"AveMonthSpend\"].median()\n",
    "print(temp,temp2)"
   ]
  },
  {
   "cell_type": "code",
   "execution_count": 16,
   "metadata": {},
   "outputs": [
    {
     "name": "stdout",
     "output_type": "stream",
     "text": [
      "count    8290.000000\n",
      "mean       87.826659\n",
      "std        26.947794\n",
      "min        29.000000\n",
      "25%        70.000000\n",
      "50%        79.000000\n",
      "75%        96.000000\n",
      "max       176.000000\n",
      "Name: AveMonthSpend, dtype: float64 count    8114.000000\n",
      "mean       56.620532\n",
      "std        16.413050\n",
      "min        22.000000\n",
      "25%        46.000000\n",
      "50%        52.000000\n",
      "75%        61.000000\n",
      "max       114.000000\n",
      "Name: AveMonthSpend, dtype: float64\n"
     ]
    }
   ],
   "source": [
    "temp=df[df[\"Gender\"]==\"M\"][\"AveMonthSpend\"].describe()\n",
    "temp2=df[df[\"Gender\"]==\"F\"][\"AveMonthSpend\"].describe()\n",
    "print(temp,temp2)"
   ]
  },
  {
   "cell_type": "code",
   "execution_count": 17,
   "metadata": {},
   "outputs": [
    {
     "name": "stdout",
     "output_type": "stream",
     "text": [
      "57.0 88.0\n"
     ]
    }
   ],
   "source": [
    "temp=df[df[\"NumberChildrenAtHome\"]==0][\"AveMonthSpend\"].median()\n",
    "temp2=df[df[\"NumberChildrenAtHome\"]>=1][\"AveMonthSpend\"].median()\n",
    "print(temp,temp2)"
   ]
  },
  {
   "cell_type": "code",
   "execution_count": 18,
   "metadata": {},
   "outputs": [],
   "source": [
    "df=pd.merge(df,df2, how='outer', left_on='CustomerID', right_on='CustomerID')"
   ]
  },
  {
   "cell_type": "code",
   "execution_count": 19,
   "metadata": {},
   "outputs": [
    {
     "name": "stdout",
     "output_type": "stream",
     "text": [
      "65957.0 96084.0\n"
     ]
    }
   ],
   "source": [
    "temp=df[df[\"BikeBuyer\"]==0][\"YearlyIncome\"].median()\n",
    "temp2=df[df[\"BikeBuyer\"]==1][\"YearlyIncome\"].median()\n",
    "print(temp,temp2)"
   ]
  },
  {
   "cell_type": "code",
   "execution_count": 20,
   "metadata": {},
   "outputs": [
    {
     "name": "stdout",
     "output_type": "stream",
     "text": [
      "1.0 2.0\n"
     ]
    }
   ],
   "source": [
    "temp=df[df[\"BikeBuyer\"]==0][\"NumberCarsOwned\"].median()\n",
    "temp2=df[df[\"BikeBuyer\"]==1][\"NumberCarsOwned\"].median()\n",
    "print(temp,temp2)"
   ]
  },
  {
   "cell_type": "code",
   "execution_count": 21,
   "metadata": {},
   "outputs": [
    {
     "data": {
      "text/plain": [
       "S    3256\n",
       "M    2199\n",
       "Name: MaritalStatus, dtype: int64"
      ]
     },
     "execution_count": 21,
     "metadata": {},
     "output_type": "execute_result"
    }
   ],
   "source": [
    "temp=df[df[\"BikeBuyer\"]==1][\"MaritalStatus\"].value_counts()\n",
    "temp"
   ]
  },
  {
   "cell_type": "code",
   "execution_count": 22,
   "metadata": {},
   "outputs": [
    {
     "data": {
      "text/html": [
       "<div>\n",
       "<style scoped>\n",
       "    .dataframe tbody tr th:only-of-type {\n",
       "        vertical-align: middle;\n",
       "    }\n",
       "\n",
       "    .dataframe tbody tr th {\n",
       "        vertical-align: top;\n",
       "    }\n",
       "\n",
       "    .dataframe thead th {\n",
       "        text-align: right;\n",
       "    }\n",
       "</style>\n",
       "<table border=\"1\" class=\"dataframe\">\n",
       "  <thead>\n",
       "    <tr style=\"text-align: right;\">\n",
       "      <th></th>\n",
       "      <th>CustomerID</th>\n",
       "      <th>AveMonthSpend</th>\n",
       "      <th>Title</th>\n",
       "      <th>FirstName</th>\n",
       "      <th>MiddleName</th>\n",
       "      <th>LastName</th>\n",
       "      <th>Suffix</th>\n",
       "      <th>AddressLine1</th>\n",
       "      <th>AddressLine2</th>\n",
       "      <th>City</th>\n",
       "      <th>...</th>\n",
       "      <th>Occupation</th>\n",
       "      <th>Gender</th>\n",
       "      <th>MaritalStatus</th>\n",
       "      <th>HomeOwnerFlag</th>\n",
       "      <th>NumberCarsOwned</th>\n",
       "      <th>NumberChildrenAtHome</th>\n",
       "      <th>TotalChildren</th>\n",
       "      <th>YearlyIncome</th>\n",
       "      <th>Age</th>\n",
       "      <th>BikeBuyer</th>\n",
       "    </tr>\n",
       "  </thead>\n",
       "  <tbody>\n",
       "    <tr>\n",
       "      <th>0</th>\n",
       "      <td>11000</td>\n",
       "      <td>89</td>\n",
       "      <td>NaN</td>\n",
       "      <td>Jon</td>\n",
       "      <td>V</td>\n",
       "      <td>Yang</td>\n",
       "      <td>NaN</td>\n",
       "      <td>3761 N. 14th St</td>\n",
       "      <td>NaN</td>\n",
       "      <td>Rockhampton</td>\n",
       "      <td>...</td>\n",
       "      <td>Professional</td>\n",
       "      <td>M</td>\n",
       "      <td>M</td>\n",
       "      <td>1</td>\n",
       "      <td>0</td>\n",
       "      <td>0</td>\n",
       "      <td>2</td>\n",
       "      <td>137947</td>\n",
       "      <td>31 days 16:03:56.065573</td>\n",
       "      <td>0</td>\n",
       "    </tr>\n",
       "    <tr>\n",
       "      <th>1</th>\n",
       "      <td>11001</td>\n",
       "      <td>117</td>\n",
       "      <td>NaN</td>\n",
       "      <td>Eugene</td>\n",
       "      <td>L</td>\n",
       "      <td>Huang</td>\n",
       "      <td>NaN</td>\n",
       "      <td>2243 W St.</td>\n",
       "      <td>NaN</td>\n",
       "      <td>Seaford</td>\n",
       "      <td>...</td>\n",
       "      <td>Professional</td>\n",
       "      <td>M</td>\n",
       "      <td>S</td>\n",
       "      <td>0</td>\n",
       "      <td>1</td>\n",
       "      <td>3</td>\n",
       "      <td>3</td>\n",
       "      <td>101141</td>\n",
       "      <td>32 days 13:38:21.639344</td>\n",
       "      <td>1</td>\n",
       "    </tr>\n",
       "    <tr>\n",
       "      <th>2</th>\n",
       "      <td>11002</td>\n",
       "      <td>123</td>\n",
       "      <td>NaN</td>\n",
       "      <td>Ruben</td>\n",
       "      <td>NaN</td>\n",
       "      <td>Torres</td>\n",
       "      <td>NaN</td>\n",
       "      <td>5844 Linden Land</td>\n",
       "      <td>NaN</td>\n",
       "      <td>Hobart</td>\n",
       "      <td>...</td>\n",
       "      <td>Professional</td>\n",
       "      <td>M</td>\n",
       "      <td>M</td>\n",
       "      <td>1</td>\n",
       "      <td>1</td>\n",
       "      <td>3</td>\n",
       "      <td>3</td>\n",
       "      <td>91945</td>\n",
       "      <td>32 days 07:44:15.737704</td>\n",
       "      <td>0</td>\n",
       "    </tr>\n",
       "    <tr>\n",
       "      <th>3</th>\n",
       "      <td>11003</td>\n",
       "      <td>50</td>\n",
       "      <td>NaN</td>\n",
       "      <td>Christy</td>\n",
       "      <td>NaN</td>\n",
       "      <td>Zhu</td>\n",
       "      <td>NaN</td>\n",
       "      <td>1825 Village Pl.</td>\n",
       "      <td>NaN</td>\n",
       "      <td>North Ryde</td>\n",
       "      <td>...</td>\n",
       "      <td>Professional</td>\n",
       "      <td>F</td>\n",
       "      <td>S</td>\n",
       "      <td>0</td>\n",
       "      <td>1</td>\n",
       "      <td>0</td>\n",
       "      <td>0</td>\n",
       "      <td>86688</td>\n",
       "      <td>29 days 19:36:23.606557</td>\n",
       "      <td>0</td>\n",
       "    </tr>\n",
       "    <tr>\n",
       "      <th>4</th>\n",
       "      <td>11004</td>\n",
       "      <td>95</td>\n",
       "      <td>NaN</td>\n",
       "      <td>Elizabeth</td>\n",
       "      <td>NaN</td>\n",
       "      <td>Johnson</td>\n",
       "      <td>NaN</td>\n",
       "      <td>7553 Harness Circle</td>\n",
       "      <td>NaN</td>\n",
       "      <td>Wollongong</td>\n",
       "      <td>...</td>\n",
       "      <td>Professional</td>\n",
       "      <td>F</td>\n",
       "      <td>S</td>\n",
       "      <td>1</td>\n",
       "      <td>4</td>\n",
       "      <td>5</td>\n",
       "      <td>5</td>\n",
       "      <td>92771</td>\n",
       "      <td>29 days 08:07:52.131147</td>\n",
       "      <td>1</td>\n",
       "    </tr>\n",
       "    <tr>\n",
       "      <th>...</th>\n",
       "      <td>...</td>\n",
       "      <td>...</td>\n",
       "      <td>...</td>\n",
       "      <td>...</td>\n",
       "      <td>...</td>\n",
       "      <td>...</td>\n",
       "      <td>...</td>\n",
       "      <td>...</td>\n",
       "      <td>...</td>\n",
       "      <td>...</td>\n",
       "      <td>...</td>\n",
       "      <td>...</td>\n",
       "      <td>...</td>\n",
       "      <td>...</td>\n",
       "      <td>...</td>\n",
       "      <td>...</td>\n",
       "      <td>...</td>\n",
       "      <td>...</td>\n",
       "      <td>...</td>\n",
       "      <td>...</td>\n",
       "      <td>...</td>\n",
       "    </tr>\n",
       "    <tr>\n",
       "      <th>16399</th>\n",
       "      <td>13121</td>\n",
       "      <td>101</td>\n",
       "      <td>NaN</td>\n",
       "      <td>Latasha</td>\n",
       "      <td>E</td>\n",
       "      <td>Jimenez</td>\n",
       "      <td>NaN</td>\n",
       "      <td>7259 Birchwood</td>\n",
       "      <td>NaN</td>\n",
       "      <td>Melton</td>\n",
       "      <td>...</td>\n",
       "      <td>Professional</td>\n",
       "      <td>F</td>\n",
       "      <td>M</td>\n",
       "      <td>1</td>\n",
       "      <td>4</td>\n",
       "      <td>5</td>\n",
       "      <td>5</td>\n",
       "      <td>101542</td>\n",
       "      <td>32 days 17:06:53.114754</td>\n",
       "      <td>0</td>\n",
       "    </tr>\n",
       "    <tr>\n",
       "      <th>16400</th>\n",
       "      <td>26100</td>\n",
       "      <td>46</td>\n",
       "      <td>NaN</td>\n",
       "      <td>James</td>\n",
       "      <td>Garner</td>\n",
       "      <td>Ptaszynski</td>\n",
       "      <td>NaN</td>\n",
       "      <td>7345 Kenwal Rd.</td>\n",
       "      <td>NaN</td>\n",
       "      <td>Shawnee</td>\n",
       "      <td>...</td>\n",
       "      <td>Professional</td>\n",
       "      <td>F</td>\n",
       "      <td>S</td>\n",
       "      <td>1</td>\n",
       "      <td>2</td>\n",
       "      <td>0</td>\n",
       "      <td>3</td>\n",
       "      <td>46549</td>\n",
       "      <td>61 days 14:57:02.950819</td>\n",
       "      <td>0</td>\n",
       "    </tr>\n",
       "    <tr>\n",
       "      <th>16401</th>\n",
       "      <td>11328</td>\n",
       "      <td>79</td>\n",
       "      <td>NaN</td>\n",
       "      <td>Julian</td>\n",
       "      <td>M</td>\n",
       "      <td>Griffin</td>\n",
       "      <td>NaN</td>\n",
       "      <td>7398 Withersed Lane</td>\n",
       "      <td>NaN</td>\n",
       "      <td>Newton</td>\n",
       "      <td>...</td>\n",
       "      <td>Management</td>\n",
       "      <td>M</td>\n",
       "      <td>M</td>\n",
       "      <td>1</td>\n",
       "      <td>2</td>\n",
       "      <td>0</td>\n",
       "      <td>5</td>\n",
       "      <td>133053</td>\n",
       "      <td>57 days 21:10:49.180327</td>\n",
       "      <td>0</td>\n",
       "    </tr>\n",
       "    <tr>\n",
       "      <th>16402</th>\n",
       "      <td>23077</td>\n",
       "      <td>65</td>\n",
       "      <td>NaN</td>\n",
       "      <td>Marvin</td>\n",
       "      <td>A</td>\n",
       "      <td>Hernandez</td>\n",
       "      <td>NaN</td>\n",
       "      <td>1019 Book Road</td>\n",
       "      <td>NaN</td>\n",
       "      <td>Rhodes</td>\n",
       "      <td>...</td>\n",
       "      <td>Skilled Manual</td>\n",
       "      <td>M</td>\n",
       "      <td>M</td>\n",
       "      <td>1</td>\n",
       "      <td>2</td>\n",
       "      <td>0</td>\n",
       "      <td>4</td>\n",
       "      <td>31930</td>\n",
       "      <td>51 days 02:17:42.295081</td>\n",
       "      <td>0</td>\n",
       "    </tr>\n",
       "    <tr>\n",
       "      <th>16403</th>\n",
       "      <td>18982</td>\n",
       "      <td>68</td>\n",
       "      <td>NaN</td>\n",
       "      <td>Kyle</td>\n",
       "      <td>NaN</td>\n",
       "      <td>Baker</td>\n",
       "      <td>NaN</td>\n",
       "      <td>2118 Little Dr.</td>\n",
       "      <td>NaN</td>\n",
       "      <td>Kirkland</td>\n",
       "      <td>...</td>\n",
       "      <td>Professional</td>\n",
       "      <td>M</td>\n",
       "      <td>S</td>\n",
       "      <td>1</td>\n",
       "      <td>2</td>\n",
       "      <td>0</td>\n",
       "      <td>4</td>\n",
       "      <td>59382</td>\n",
       "      <td>52 days 15:04:55.081967</td>\n",
       "      <td>0</td>\n",
       "    </tr>\n",
       "  </tbody>\n",
       "</table>\n",
       "<p>16404 rows × 26 columns</p>\n",
       "</div>"
      ],
      "text/plain": [
       "       CustomerID  AveMonthSpend Title  FirstName MiddleName    LastName  \\\n",
       "0           11000             89   NaN        Jon          V        Yang   \n",
       "1           11001            117   NaN     Eugene          L       Huang   \n",
       "2           11002            123   NaN      Ruben        NaN      Torres   \n",
       "3           11003             50   NaN    Christy        NaN         Zhu   \n",
       "4           11004             95   NaN  Elizabeth        NaN     Johnson   \n",
       "...           ...            ...   ...        ...        ...         ...   \n",
       "16399       13121            101   NaN    Latasha          E     Jimenez   \n",
       "16400       26100             46   NaN      James     Garner  Ptaszynski   \n",
       "16401       11328             79   NaN     Julian          M     Griffin   \n",
       "16402       23077             65   NaN     Marvin          A   Hernandez   \n",
       "16403       18982             68   NaN       Kyle        NaN       Baker   \n",
       "\n",
       "      Suffix         AddressLine1 AddressLine2         City  ...  \\\n",
       "0        NaN      3761 N. 14th St          NaN  Rockhampton  ...   \n",
       "1        NaN           2243 W St.          NaN      Seaford  ...   \n",
       "2        NaN     5844 Linden Land          NaN       Hobart  ...   \n",
       "3        NaN     1825 Village Pl.          NaN   North Ryde  ...   \n",
       "4        NaN  7553 Harness Circle          NaN   Wollongong  ...   \n",
       "...      ...                  ...          ...          ...  ...   \n",
       "16399    NaN       7259 Birchwood          NaN       Melton  ...   \n",
       "16400    NaN      7345 Kenwal Rd.          NaN      Shawnee  ...   \n",
       "16401    NaN  7398 Withersed Lane          NaN       Newton  ...   \n",
       "16402    NaN       1019 Book Road          NaN       Rhodes  ...   \n",
       "16403    NaN      2118 Little Dr.          NaN     Kirkland  ...   \n",
       "\n",
       "           Occupation Gender MaritalStatus HomeOwnerFlag NumberCarsOwned  \\\n",
       "0        Professional      M             M             1               0   \n",
       "1        Professional      M             S             0               1   \n",
       "2        Professional      M             M             1               1   \n",
       "3        Professional      F             S             0               1   \n",
       "4        Professional      F             S             1               4   \n",
       "...               ...    ...           ...           ...             ...   \n",
       "16399    Professional      F             M             1               4   \n",
       "16400    Professional      F             S             1               2   \n",
       "16401      Management      M             M             1               2   \n",
       "16402  Skilled Manual      M             M             1               2   \n",
       "16403    Professional      M             S             1               2   \n",
       "\n",
       "      NumberChildrenAtHome TotalChildren YearlyIncome                     Age  \\\n",
       "0                        0             2       137947 31 days 16:03:56.065573   \n",
       "1                        3             3       101141 32 days 13:38:21.639344   \n",
       "2                        3             3        91945 32 days 07:44:15.737704   \n",
       "3                        0             0        86688 29 days 19:36:23.606557   \n",
       "4                        5             5        92771 29 days 08:07:52.131147   \n",
       "...                    ...           ...          ...                     ...   \n",
       "16399                    5             5       101542 32 days 17:06:53.114754   \n",
       "16400                    0             3        46549 61 days 14:57:02.950819   \n",
       "16401                    0             5       133053 57 days 21:10:49.180327   \n",
       "16402                    0             4        31930 51 days 02:17:42.295081   \n",
       "16403                    0             4        59382 52 days 15:04:55.081967   \n",
       "\n",
       "       BikeBuyer  \n",
       "0              0  \n",
       "1              1  \n",
       "2              0  \n",
       "3              0  \n",
       "4              1  \n",
       "...          ...  \n",
       "16399          0  \n",
       "16400          0  \n",
       "16401          0  \n",
       "16402          0  \n",
       "16403          0  \n",
       "\n",
       "[16404 rows x 26 columns]"
      ]
     },
     "execution_count": 22,
     "metadata": {},
     "output_type": "execute_result"
    }
   ],
   "source": [
    "df"
   ]
  },
  {
   "cell_type": "code",
   "execution_count": 25,
   "metadata": {},
   "outputs": [
    {
     "data": {
      "text/plain": [
       "CustomerID                  0\n",
       "AveMonthSpend               0\n",
       "Title                   16316\n",
       "FirstName                   0\n",
       "MiddleName               6951\n",
       "LastName                    0\n",
       "Suffix                  16402\n",
       "AddressLine1                0\n",
       "AddressLine2            16131\n",
       "City                        0\n",
       "StateProvinceName           0\n",
       "CountryRegionName           0\n",
       "PostalCode                  0\n",
       "PhoneNumber                 0\n",
       "BirthDate                   0\n",
       "Education                   0\n",
       "Occupation                  0\n",
       "Gender                      0\n",
       "MaritalStatus               0\n",
       "HomeOwnerFlag               0\n",
       "NumberCarsOwned             0\n",
       "NumberChildrenAtHome        0\n",
       "TotalChildren               0\n",
       "YearlyIncome                0\n",
       "Age                         0\n",
       "BikeBuyer                   0\n",
       "dtype: int64"
      ]
     },
     "execution_count": 25,
     "metadata": {},
     "output_type": "execute_result"
    }
   ],
   "source": [
    "df.isna().sum()"
   ]
  },
  {
   "cell_type": "code",
   "execution_count": 27,
   "metadata": {},
   "outputs": [
    {
     "data": {
      "text/plain": [
       "Index(['CustomerID', 'AveMonthSpend', 'FirstName', 'LastName', 'AddressLine1',\n",
       "       'City', 'StateProvinceName', 'CountryRegionName', 'PostalCode',\n",
       "       'PhoneNumber', 'BirthDate', 'Education', 'Occupation', 'Gender',\n",
       "       'MaritalStatus', 'HomeOwnerFlag', 'NumberCarsOwned',\n",
       "       'NumberChildrenAtHome', 'TotalChildren', 'YearlyIncome', 'Age',\n",
       "       'BikeBuyer'],\n",
       "      dtype='object')"
      ]
     },
     "execution_count": 27,
     "metadata": {},
     "output_type": "execute_result"
    }
   ],
   "source": [
    "df=df=df.dropna(axis=1, how='any')\n",
    "df.columns"
   ]
  },
  {
   "cell_type": "code",
   "execution_count": null,
   "metadata": {},
   "outputs": [],
   "source": []
  }
 ],
 "metadata": {
  "kernelspec": {
   "display_name": "Python 3",
   "language": "python",
   "name": "python3"
  },
  "language_info": {
   "codemirror_mode": {
    "name": "ipython",
    "version": 3
   },
   "file_extension": ".py",
   "mimetype": "text/x-python",
   "name": "python",
   "nbconvert_exporter": "python",
   "pygments_lexer": "ipython3",
   "version": "3.7.6"
  }
 },
 "nbformat": 4,
 "nbformat_minor": 4
}
